{
  "nbformat": 4,
  "nbformat_minor": 0,
  "metadata": {
    "colab": {
      "provenance": [],
      "collapsed_sections": []
    },
    "kernelspec": {
      "name": "python3",
      "display_name": "Python 3"
    },
    "language_info": {
      "name": "python"
    },
    "gpuClass": "standard",
    "accelerator": "GPU"
  },
  "cells": [
    {
      "cell_type": "code",
      "execution_count": 7,
      "metadata": {
        "colab": {
          "base_uri": "https://localhost:8080/"
        },
        "id": "mDbV57Cll-yX",
        "outputId": "2572b9f8-e5e0-439d-b4ee-100c5610ec7e"
      },
      "outputs": [
        {
          "output_type": "stream",
          "name": "stdout",
          "text": [
            "Tue Nov  1 08:09:07 2022       \n",
            "+-----------------------------------------------------------------------------+\n",
            "| NVIDIA-SMI 460.32.03    Driver Version: 460.32.03    CUDA Version: 11.2     |\n",
            "|-------------------------------+----------------------+----------------------+\n",
            "| GPU  Name        Persistence-M| Bus-Id        Disp.A | Volatile Uncorr. ECC |\n",
            "| Fan  Temp  Perf  Pwr:Usage/Cap|         Memory-Usage | GPU-Util  Compute M. |\n",
            "|                               |                      |               MIG M. |\n",
            "|===============================+======================+======================|\n",
            "|   0  Tesla T4            Off  | 00000000:00:04.0 Off |                    0 |\n",
            "| N/A   44C    P8     9W /  70W |      0MiB / 15109MiB |      0%      Default |\n",
            "|                               |                      |                  N/A |\n",
            "+-------------------------------+----------------------+----------------------+\n",
            "                                                                               \n",
            "+-----------------------------------------------------------------------------+\n",
            "| Processes:                                                                  |\n",
            "|  GPU   GI   CI        PID   Type   Process name                  GPU Memory |\n",
            "|        ID   ID                                                   Usage      |\n",
            "|=============================================================================|\n",
            "|  No running processes found                                                 |\n",
            "+-----------------------------------------------------------------------------+\n"
          ]
        }
      ],
      "source": [
        "!nvidia-smi"
      ]
    },
    {
      "cell_type": "code",
      "source": [
        "from google.colab import drive\n",
        "drive.mount('/content/drive')"
      ],
      "metadata": {
        "colab": {
          "base_uri": "https://localhost:8080/"
        },
        "id": "o5Lau8s4O9Rc",
        "outputId": "98252432-2f84-40ad-c19f-752015e7184a"
      },
      "execution_count": 8,
      "outputs": [
        {
          "output_type": "stream",
          "name": "stdout",
          "text": [
            "Drive already mounted at /content/drive; to attempt to forcibly remount, call drive.mount(\"/content/drive\", force_remount=True).\n"
          ]
        }
      ]
    },
    {
      "cell_type": "code",
      "source": [
        "import numpy as np\n",
        "import os\n",
        "import cv2\n",
        "import matplotlib.pyplot as plt\n",
        "import matplotlib.colors as pltcol\n",
        "import tensorflow as tf\n",
        "import keras\n",
        "import PIL\n",
        "from PIL import Image"
      ],
      "metadata": {
        "id": "n6ciCI0Szdv_"
      },
      "execution_count": 9,
      "outputs": []
    },
    {
      "cell_type": "markdown",
      "source": [
        "# **EXTRACTING IMAGES FROM TRAINING FOLDER AND CONVERTING INTO TRAINING ARRAY DATASET**"
      ],
      "metadata": {
        "id": "NE2vHDxr8fUR"
      }
    },
    {
      "cell_type": "code",
      "source": [
        "train_path='/content/drive/MyDrive/Rock-Paper-Scissors/train'"
      ],
      "metadata": {
        "id": "8xn7vNNHvyBJ"
      },
      "execution_count": 10,
      "outputs": []
    },
    {
      "cell_type": "code",
      "source": [
        "train_folders=[]\n",
        "for fol in os.listdir(train_path):\n",
        "  train_folders.append(fol)\n",
        "\n",
        "print(train_folders)"
      ],
      "metadata": {
        "colab": {
          "base_uri": "https://localhost:8080/"
        },
        "id": "AvEkir8Ywdu9",
        "outputId": "f836ba5c-b923-4db9-ee46-97e4ae71f9d1"
      },
      "execution_count": 11,
      "outputs": [
        {
          "output_type": "stream",
          "name": "stdout",
          "text": [
            "['rock', 'paper', 'scissors']\n"
          ]
        }
      ]
    },
    {
      "cell_type": "markdown",
      "source": [
        "**EXTRACTING ROCK IMAGES**"
      ],
      "metadata": {
        "id": "9aazBePC4JJB"
      }
    },
    {
      "cell_type": "code",
      "source": [
        "rock_path=train_path+'/rock'\n",
        "rock_images=os.listdir(rock_path)\n",
        "x_train_rock=[]\n",
        "for file in rock_images:\n",
        "  img_path=rock_path+'/'+file\n",
        "  img=plt.imread(img_path)\n",
        "  img=cv2.resize(img,(64,64))\n",
        "  img_2d=np.array(img)\n",
        "  x_train_rock.append(img_2d)\n",
        "\n",
        "len(x_train_rock)"
      ],
      "metadata": {
        "id": "TKNww-A8x8up",
        "colab": {
          "base_uri": "https://localhost:8080/"
        },
        "outputId": "87a8abd4-9427-418a-87b5-526a79538070"
      },
      "execution_count": 12,
      "outputs": [
        {
          "output_type": "execute_result",
          "data": {
            "text/plain": [
              "840"
            ]
          },
          "metadata": {},
          "execution_count": 12
        }
      ]
    },
    {
      "cell_type": "code",
      "source": [
        "plt.imshow(x_train_rock[5])"
      ],
      "metadata": {
        "id": "exqeM6IE1GT2",
        "colab": {
          "base_uri": "https://localhost:8080/",
          "height": 285
        },
        "outputId": "080f1169-ac2d-489d-9c5d-c0fb9b773864"
      },
      "execution_count": 13,
      "outputs": [
        {
          "output_type": "execute_result",
          "data": {
            "text/plain": [
              "<matplotlib.image.AxesImage at 0x7f1b5c591890>"
            ]
          },
          "metadata": {},
          "execution_count": 13
        },
        {
          "output_type": "display_data",
          "data": {
            "text/plain": [
              "<Figure size 432x288 with 1 Axes>"
            ],
            "image/png": "[encoded data removed]"
          },
          "metadata": {
            "needs_background": "light"
          }
        }
      ]
    },
    {
      "cell_type": "markdown",
      "source": [
        "**EXTRACTING PAPER IMAGES**"
      ],
      "metadata": {
        "id": "QvzXGCbt4PF8"
      }
    },
    {
      "cell_type": "code",
      "source": [
        "paper_path=train_path+'/paper'\n",
        "paper_images=os.listdir(paper_path)\n",
        "x_train_paper=[]\n",
        "\n",
        "for file in paper_images:\n",
        "  img_path=paper_path+'/'+file\n",
        "  img=plt.imread(img_path)\n",
        "  img=cv2.resize(img,(64,64))\n",
        "  img_2d=np.array(img)\n",
        "  x_train_paper.append(img_2d)\n",
        "\n",
        "len(x_train_paper)"
      ],
      "metadata": {
        "id": "nW7RxJ5o4Hvq",
        "colab": {
          "base_uri": "https://localhost:8080/"
        },
        "outputId": "aa1cd8a2-3865-48bb-b418-a0df2bd57d58"
      },
      "execution_count": 14,
      "outputs": [
        {
          "output_type": "execute_result",
          "data": {
            "text/plain": [
              "840"
            ]
          },
          "metadata": {},
          "execution_count": 14
        }
      ]
    },
    {
      "cell_type": "code",
      "source": [
        "plt.imshow(x_train_paper[5])"
      ],
      "metadata": {
        "id": "USCCccQt55BS",
        "colab": {
          "base_uri": "https://localhost:8080/",
          "height": 285
        },
        "outputId": "bfed6844-fa43-48fb-b147-b5dbdf291e20"
      },
      "execution_count": 15,
      "outputs": [
        {
          "output_type": "execute_result",
          "data": {
            "text/plain": [
              "<matplotlib.image.AxesImage at 0x7f1b5c4ed7d0>"
            ]
          },
          "metadata": {},
          "execution_count": 15
        },
        {
          "output_type": "display_data",
          "data": {
            "text/plain": [
              "<Figure size 432x288 with 1 Axes>"
            ],
            "image/png": "[encoded data removed]"
          },
          "metadata": {
            "needs_background": "light"
          }
        }
      ]
    },
    {
      "cell_type": "markdown",
      "source": [
        "**EXTRACTING SCISSORS IMAGES**"
      ],
      "metadata": {
        "id": "1tRU_8fP6obr"
      }
    },
    {
      "cell_type": "code",
      "source": [
        "scissors_path=train_path+'/scissors'\n",
        "scissors_images=os.listdir(scissors_path)\n",
        "x_train_scissors=[]\n",
        "\n",
        "for file in scissors_images:\n",
        "  img_path=scissors_path+'/'+file\n",
        "  img=plt.imread(img_path)\n",
        "  img=cv2.resize(img,(64,64))\n",
        "  img_2d=np.array(img)\n",
        "  x_train_scissors.append(img_2d)\n",
        "\n",
        "len(x_train_scissors)"
      ],
      "metadata": {
        "id": "o8z1MIZb6nac",
        "colab": {
          "base_uri": "https://localhost:8080/"
        },
        "outputId": "1ca01d2b-edd4-476d-b8da-9dde28c047d9"
      },
      "execution_count": 16,
      "outputs": [
        {
          "output_type": "execute_result",
          "data": {
            "text/plain": [
              "840"
            ]
          },
          "metadata": {},
          "execution_count": 16
        }
      ]
    },
    {
      "cell_type": "code",
      "source": [
        "plt.imshow(x_train_scissors[5])"
      ],
      "metadata": {
        "id": "FmAjNw8Y8T_O",
        "colab": {
          "base_uri": "https://localhost:8080/",
          "height": 285
        },
        "outputId": "d573ccd8-62c6-45ea-b526-1d5c2573c2d7"
      },
      "execution_count": 17,
      "outputs": [
        {
          "output_type": "execute_result",
          "data": {
            "text/plain": [
              "<matplotlib.image.AxesImage at 0x7f1b5c40b9d0>"
            ]
          },
          "metadata": {},
          "execution_count": 17
        },
        {
          "output_type": "display_data",
          "data": {
            "text/plain": [
              "<Figure size 432x288 with 1 Axes>"
            ],
            "image/png": "[encoded data removed]"
          },
          "metadata": {
            "needs_background": "light"
          }
        }
      ]
    },
    {
      "cell_type": "code",
      "source": [
        "x_train=x_train_rock+x_train_paper+x_train_scissors\n",
        "x_train=np.array(x_train)"
      ],
      "metadata": {
        "id": "ON0ugbTA803c"
      },
      "execution_count": 18,
      "outputs": []
    },
    {
      "cell_type": "code",
      "source": [
        "x_train.shape"
      ],
      "metadata": {
        "id": "mlU4AVg29bI1",
        "colab": {
          "base_uri": "https://localhost:8080/"
        },
        "outputId": "529ef894-333f-4f06-e6d1-0b8af0999d49"
      },
      "execution_count": 19,
      "outputs": [
        {
          "output_type": "execute_result",
          "data": {
            "text/plain": [
              "(2520, 64, 64, 4)"
            ]
          },
          "metadata": {},
          "execution_count": 19
        }
      ]
    },
    {
      "cell_type": "markdown",
      "source": [
        "**CREATING TRAINING LABELS**"
      ],
      "metadata": {
        "id": "HquKAejp8uF5"
      }
    },
    {
      "cell_type": "code",
      "source": [
        "y_train=np.empty(2520)\n",
        "for i in range(0,840):\n",
        "    y_train[i] = 0\n",
        "\n",
        "for i in range(840,1680):\n",
        "    y_train[i] = 1\n",
        "\n",
        "for i in range(1680,2520):\n",
        "    y_train[i] = 2\n"
      ],
      "metadata": {
        "id": "YK-iwHme13Ex"
      },
      "execution_count": 20,
      "outputs": []
    },
    {
      "cell_type": "code",
      "source": [
        "y_train.shape"
      ],
      "metadata": {
        "id": "KWv-akBi20j8",
        "colab": {
          "base_uri": "https://localhost:8080/"
        },
        "outputId": "7d4b70c2-ed28-4f38-d4a3-7e73f6928041"
      },
      "execution_count": 21,
      "outputs": [
        {
          "output_type": "execute_result",
          "data": {
            "text/plain": [
              "(2520,)"
            ]
          },
          "metadata": {},
          "execution_count": 21
        }
      ]
    },
    {
      "cell_type": "code",
      "source": [
        "plt.imshow(x_train[839])\n",
        "y_train[839]"
      ],
      "metadata": {
        "id": "Ah-hs4Z29m8N",
        "colab": {
          "base_uri": "https://localhost:8080/",
          "height": 285
        },
        "outputId": "fb0bd3f7-b54f-4dd6-9af1-d51f272efde6"
      },
      "execution_count": 22,
      "outputs": [
        {
          "output_type": "execute_result",
          "data": {
            "text/plain": [
              "0.0"
            ]
          },
          "metadata": {},
          "execution_count": 22
        },
        {
          "output_type": "display_data",
          "data": {
            "text/plain": [
              "<Figure size 432x288 with 1 Axes>"
            ],
            "image/png": "[encoded data removed]"
          },
          "metadata": {
            "needs_background": "light"
          }
        }
      ]
    },
    {
      "cell_type": "markdown",
      "source": [
        "# **EXTRACTING IMAGES FROM TESTING FOLDER AND CONVERTING INTO TESTING ARRAY DATASET**"
      ],
      "metadata": {
        "id": "OxwHy-TrQw6N"
      }
    },
    {
      "cell_type": "code",
      "source": [
        "test_path='/content/drive/MyDrive/Rock-Paper-Scissors/test'"
      ],
      "metadata": {
        "id": "G-enFz-bR87i"
      },
      "execution_count": 23,
      "outputs": []
    },
    {
      "cell_type": "code",
      "source": [
        "test_folders=[]\n",
        "\n",
        "for fol in os.listdir(test_path):\n",
        "  test_folders.append(fol)\n",
        "\n",
        "test_folders"
      ],
      "metadata": {
        "id": "Br5jBCDoSW6q",
        "colab": {
          "base_uri": "https://localhost:8080/"
        },
        "outputId": "f9f3ea7a-e4f1-4072-e9be-e38c23f993da"
      },
      "execution_count": 24,
      "outputs": [
        {
          "output_type": "execute_result",
          "data": {
            "text/plain": [
              "['rock', 'scissors', 'paper']"
            ]
          },
          "metadata": {},
          "execution_count": 24
        }
      ]
    },
    {
      "cell_type": "markdown",
      "source": [
        "**EXTRACTING ROCK IMAGES**"
      ],
      "metadata": {
        "id": "26iE8BvUYrXF"
      }
    },
    {
      "cell_type": "code",
      "source": [
        "rock_path=test_path+'/rock'\n",
        "rock_images=os.listdir(rock_path)\n",
        "\n",
        "x_test_rock=[]\n",
        "for file in rock_images:\n",
        "  img_path=rock_path+'/'+file\n",
        "  img=plt.imread(img_path)\n",
        "  img=cv2.resize(img,(64,64))\n",
        "  img2d=np.array(img)\n",
        "  x_test_rock.append(img2d)\n",
        "\n",
        "len(x_test_rock)"
      ],
      "metadata": {
        "id": "RBlSqNhdWavt",
        "colab": {
          "base_uri": "https://localhost:8080/"
        },
        "outputId": "db06b68a-03ad-452a-c703-b58a86273eeb"
      },
      "execution_count": 25,
      "outputs": [
        {
          "output_type": "execute_result",
          "data": {
            "text/plain": [
              "124"
            ]
          },
          "metadata": {},
          "execution_count": 25
        }
      ]
    },
    {
      "cell_type": "code",
      "source": [
        "plt.imshow(x_test_rock[5])"
      ],
      "metadata": {
        "id": "YAIA4Ip4Yn1F",
        "colab": {
          "base_uri": "https://localhost:8080/",
          "height": 285
        },
        "outputId": "27dc58ba-34d5-4a3a-d19e-ee3bb7827689"
      },
      "execution_count": 26,
      "outputs": [
        {
          "output_type": "execute_result",
          "data": {
            "text/plain": [
              "<matplotlib.image.AxesImage at 0x7f1b5c372c90>"
            ]
          },
          "metadata": {},
          "execution_count": 26
        },
        {
          "output_type": "display_data",
          "data": {
            "text/plain": [
              "<Figure size 432x288 with 1 Axes>"
            ],
            "image/png": "[encoded data removed]"
          },
          "metadata": {
            "needs_background": "light"
          }
        }
      ]
    },
    {
      "cell_type": "markdown",
      "source": [
        "**EXTRACTING PAPER SCISSORS**"
      ],
      "metadata": {
        "id": "vjT1Xzy-ZHB0"
      }
    },
    {
      "cell_type": "code",
      "source": [
        "paper_path=test_path+'/paper'\n",
        "paper_images=os.listdir(paper_path)\n",
        "\n",
        "x_test_paper=[]\n",
        "for file in paper_images:\n",
        "  img_path=paper_path+'/'+file\n",
        "  img=plt.imread(img_path)\n",
        "  img=cv2.resize(img,(64,64))\n",
        "  img_2d=np.array(img)\n",
        "  x_test_paper.append(img_2d)\n",
        "\n",
        "len(x_test_paper)"
      ],
      "metadata": {
        "id": "DLvbqH-4ZOdd",
        "colab": {
          "base_uri": "https://localhost:8080/"
        },
        "outputId": "c25d917c-6070-407f-857e-92d027070b6b"
      },
      "execution_count": 27,
      "outputs": [
        {
          "output_type": "execute_result",
          "data": {
            "text/plain": [
              "124"
            ]
          },
          "metadata": {},
          "execution_count": 27
        }
      ]
    },
    {
      "cell_type": "code",
      "source": [
        "plt.imshow(x_test_paper[5])"
      ],
      "metadata": {
        "id": "PKpuOGmLbD4J",
        "colab": {
          "base_uri": "https://localhost:8080/",
          "height": 285
        },
        "outputId": "1f32c388-1886-4cdf-cd07-3600c4dc78b8"
      },
      "execution_count": 28,
      "outputs": [
        {
          "output_type": "execute_result",
          "data": {
            "text/plain": [
              "<matplotlib.image.AxesImage at 0x7f1b5c2e6350>"
            ]
          },
          "metadata": {},
          "execution_count": 28
        },
        {
          "output_type": "display_data",
          "data": {
            "text/plain": [
              "<Figure size 432x288 with 1 Axes>"
            ],
            "image/png": "[encoded data removed]"
          },
          "metadata": {
            "needs_background": "light"
          }
        }
      ]
    },
    {
      "cell_type": "markdown",
      "source": [
        "**EXTRACTING SCISSORS IMAGES**"
      ],
      "metadata": {
        "id": "obeL0i5NgRi5"
      }
    },
    {
      "cell_type": "code",
      "source": [
        "scissors_path=test_path+'/scissors'\n",
        "scissors_images=os.listdir(scissors_path)\n",
        "\n",
        "x_test_scissors=[]\n",
        "for file in scissors_images:\n",
        "  img_path=scissors_path+'/'+file\n",
        "  img=plt.imread(img_path)\n",
        "  img=cv2.resize(img,(64,64))\n",
        "  img_2d=np.array(img)\n",
        "  x_test_scissors.append(img_2d)\n",
        "\n",
        "len(x_test_scissors)"
      ],
      "metadata": {
        "id": "ymad6VvTgQ9s",
        "colab": {
          "base_uri": "https://localhost:8080/"
        },
        "outputId": "301584bf-c684-4356-8705-ff20bd6c14e7"
      },
      "execution_count": 29,
      "outputs": [
        {
          "output_type": "execute_result",
          "data": {
            "text/plain": [
              "124"
            ]
          },
          "metadata": {},
          "execution_count": 29
        }
      ]
    },
    {
      "cell_type": "code",
      "source": [
        "plt.imshow(x_test_scissors[5])"
      ],
      "metadata": {
        "id": "Sjd9u8i8lg6l",
        "colab": {
          "base_uri": "https://localhost:8080/",
          "height": 285
        },
        "outputId": "195ccde8-5055-4a64-947a-9a6fa115239a"
      },
      "execution_count": 30,
      "outputs": [
        {
          "output_type": "execute_result",
          "data": {
            "text/plain": [
              "<matplotlib.image.AxesImage at 0x7f1b5c254150>"
            ]
          },
          "metadata": {},
          "execution_count": 30
        },
        {
          "output_type": "display_data",
          "data": {
            "text/plain": [
              "<Figure size 432x288 with 1 Axes>"
            ],
            "image/png": "[encoded data removed]"
          },
          "metadata": {
            "needs_background": "light"
          }
        }
      ]
    },
    {
      "cell_type": "code",
      "source": [
        "x_test=x_test_rock+x_test_paper+x_test_scissors\n",
        "x_test=np.array(x_test)"
      ],
      "metadata": {
        "id": "VmngeYUzra96"
      },
      "execution_count": 31,
      "outputs": []
    },
    {
      "cell_type": "code",
      "source": [
        "x_test.shape"
      ],
      "metadata": {
        "id": "bmnVWL-6rm7Q",
        "colab": {
          "base_uri": "https://localhost:8080/"
        },
        "outputId": "dad9a452-d9d7-48f4-d746-01994efa2c0e"
      },
      "execution_count": 32,
      "outputs": [
        {
          "output_type": "execute_result",
          "data": {
            "text/plain": [
              "(372, 64, 64, 4)"
            ]
          },
          "metadata": {},
          "execution_count": 32
        }
      ]
    },
    {
      "cell_type": "markdown",
      "source": [
        "**CREATING TRAINING LABELS**"
      ],
      "metadata": {
        "id": "CSKIcfsCozYl"
      }
    },
    {
      "cell_type": "code",
      "source": [
        "y_test=np.empty(372)\n",
        "\n",
        "for i in range(0,124):\n",
        "  y_test[i]=0\n",
        "  y_test[i+124]=1\n",
        "  y_test[i+248]=2"
      ],
      "metadata": {
        "id": "vjOzteTjovNY"
      },
      "execution_count": 33,
      "outputs": []
    },
    {
      "cell_type": "code",
      "source": [
        "plt.imshow(x_test[248])\n",
        "y_test[248]"
      ],
      "metadata": {
        "id": "uU0RPo6xq7p7",
        "colab": {
          "base_uri": "https://localhost:8080/",
          "height": 285
        },
        "outputId": "2a15d7af-4bf7-49c8-ac14-d08a8be60527"
      },
      "execution_count": 34,
      "outputs": [
        {
          "output_type": "execute_result",
          "data": {
            "text/plain": [
              "2.0"
            ]
          },
          "metadata": {},
          "execution_count": 34
        },
        {
          "output_type": "display_data",
          "data": {
            "text/plain": [
              "<Figure size 432x288 with 1 Axes>"
            ],
            "image/png": "[encoded data removed]"
          },
          "metadata": {
            "needs_background": "light"
          }
        }
      ]
    },
    {
      "cell_type": "markdown",
      "source": [
        "# **CREATING NEURAL NETWORK USING CNN AND TRAINING MODEL**"
      ],
      "metadata": {
        "id": "4jhN0YdQsC2g"
      }
    },
    {
      "cell_type": "code",
      "source": [
        "y_train=keras.utils.to_categorical(y_train)\n",
        "y_test=keras.utils.to_categorical(y_test)"
      ],
      "metadata": {
        "id": "uRyzi--L3cXS"
      },
      "execution_count": 35,
      "outputs": []
    },
    {
      "cell_type": "code",
      "source": [
        "# x_train=x_train/255.0\n",
        "# x_test=x_test/255.0"
      ],
      "metadata": {
        "id": "m4lT0x9F3lTp"
      },
      "execution_count": 36,
      "outputs": []
    },
    {
      "cell_type": "code",
      "source": [
        "print(x_train.shape,y_train.shape)\n",
        "print(x_test.shape,y_test.shape)"
      ],
      "metadata": {
        "id": "ohCJkAKKsCh9",
        "colab": {
          "base_uri": "https://localhost:8080/"
        },
        "outputId": "32b38904-d3ec-4b13-932e-1b86b4dc479d"
      },
      "execution_count": 37,
      "outputs": [
        {
          "output_type": "stream",
          "name": "stdout",
          "text": [
            "(2520, 64, 64, 4) (2520, 3)\n",
            "(372, 64, 64, 4) (372, 3)\n"
          ]
        }
      ]
    },
    {
      "cell_type": "code",
      "source": [
        "model=keras.Sequential([\n",
        "    keras.layers.Conv2D(32,(4,4),activation='relu',input_shape=(64,64,4)),\n",
        "    keras.layers.MaxPooling2D((2,2)),\n",
        "\n",
        "    keras.layers.Conv2D(64,(4,4),activation='relu'),\n",
        "    keras.layers.MaxPooling2D((2,2)),\n",
        "\n",
        "    keras.layers.Conv2D(128,(4,4),activation='relu'),\n",
        "    keras.layers.MaxPooling2D((2,2)),\n",
        "\n",
        "    keras.layers.Conv2D(256,(4,4),activation='relu'),\n",
        "    keras.layers.MaxPooling2D((2,2)),\n",
        "\n",
        "    keras.layers.Flatten(),\n",
        "    keras.layers.Dropout(0.5),\n",
        "    keras.layers.Dense(512,activation='relu'),\n",
        "    keras.layers.Dense(1024,activation='relu'),\n",
        "    keras.layers.Dense(3,activation='softmax')\n",
        "])"
      ],
      "metadata": {
        "id": "S4mcMymkt0xT"
      },
      "execution_count": 38,
      "outputs": []
    },
    {
      "cell_type": "code",
      "source": [
        "model.summary()"
      ],
      "metadata": {
        "id": "cvufyBUh1VSt",
        "colab": {
          "base_uri": "https://localhost:8080/"
        },
        "outputId": "49236601-85ff-492d-a68d-93daa73ea534"
      },
      "execution_count": 39,
      "outputs": [
        {
          "output_type": "stream",
          "name": "stdout",
          "text": [
            "Model: \"sequential\"\n",
            "_________________________________________________________________\n",
            " Layer (type)                Output Shape              Param #   \n",
            "=================================================================\n",
            " conv2d (Conv2D)             (None, 61, 61, 32)        2080      \n",
            "                                                                 \n",
            " max_pooling2d (MaxPooling2D  (None, 30, 30, 32)       0         \n",
            " )                                                               \n",
            "                                                                 \n",
            " conv2d_1 (Conv2D)           (None, 27, 27, 64)        32832     \n",
            "                                                                 \n",
            " max_pooling2d_1 (MaxPooling  (None, 13, 13, 64)       0         \n",
            " 2D)                                                             \n",
            "                                                                 \n",
            " conv2d_2 (Conv2D)           (None, 10, 10, 128)       131200    \n",
            "                                                                 \n",
            " max_pooling2d_2 (MaxPooling  (None, 5, 5, 128)        0         \n",
            " 2D)                                                             \n",
            "                                                                 \n",
            " conv2d_3 (Conv2D)           (None, 2, 2, 256)         524544    \n",
            "                                                                 \n",
            " max_pooling2d_3 (MaxPooling  (None, 1, 1, 256)        0         \n",
            " 2D)                                                             \n",
            "                                                                 \n",
            " flatten (Flatten)           (None, 256)               0         \n",
            "                                                                 \n",
            " dropout (Dropout)           (None, 256)               0         \n",
            "                                                                 \n",
            " dense (Dense)               (None, 512)               131584    \n",
            "                                                                 \n",
            " dense_1 (Dense)             (None, 1024)              525312    \n",
            "                                                                 \n",
            " dense_2 (Dense)             (None, 3)                 3075      \n",
            "                                                                 \n",
            "=================================================================\n",
            "Total params: 1,350,627\n",
            "Trainable params: 1,350,627\n",
            "Non-trainable params: 0\n",
            "_________________________________________________________________\n"
          ]
        }
      ]
    },
    {
      "cell_type": "code",
      "source": [
        "model.compile(optimizer='adam',loss='categorical_crossentropy',metrics=['accuracy'])"
      ],
      "metadata": {
        "id": "6nUWk7cU1eW1"
      },
      "execution_count": 40,
      "outputs": []
    },
    {
      "cell_type": "code",
      "source": [
        "model.fit(x_train,y_train,epochs=6,batch_size=32)"
      ],
      "metadata": {
        "id": "ACPBd6fx1uTW",
        "colab": {
          "base_uri": "https://localhost:8080/"
        },
        "outputId": "203c4ea3-9ed0-40ff-f13b-a0216a2504a5"
      },
      "execution_count": 41,
      "outputs": [
        {
          "output_type": "stream",
          "name": "stdout",
          "text": [
            "Epoch 1/6\n",
            "79/79 [==============================] - 11s 11ms/step - loss: 0.8417 - accuracy: 0.5508\n",
            "Epoch 2/6\n",
            "79/79 [==============================] - 1s 9ms/step - loss: 0.0922 - accuracy: 0.9675\n",
            "Epoch 3/6\n",
            "79/79 [==============================] - 1s 9ms/step - loss: 0.0198 - accuracy: 0.9933\n",
            "Epoch 4/6\n",
            "79/79 [==============================] - 1s 9ms/step - loss: 0.0134 - accuracy: 0.9964\n",
            "Epoch 5/6\n",
            "79/79 [==============================] - 1s 9ms/step - loss: 0.0589 - accuracy: 0.9849\n",
            "Epoch 6/6\n",
            "79/79 [==============================] - 1s 9ms/step - loss: 0.0100 - accuracy: 0.9968\n"
          ]
        },
        {
          "output_type": "execute_result",
          "data": {
            "text/plain": [
              "<keras.callbacks.History at 0x7f1b5c50aed0>"
            ]
          },
          "metadata": {},
          "execution_count": 41
        }
      ]
    },
    {
      "cell_type": "code",
      "source": [
        "model.evaluate(x_test,y_test)"
      ],
      "metadata": {
        "id": "7WLY6sM-7Xvl",
        "colab": {
          "base_uri": "https://localhost:8080/"
        },
        "outputId": "39d05916-f5b8-47e4-c425-536bccd3ba4a"
      },
      "execution_count": 42,
      "outputs": [
        {
          "output_type": "stream",
          "name": "stdout",
          "text": [
            "12/12 [==============================] - 0s 13ms/step - loss: 0.3024 - accuracy: 0.9086\n"
          ]
        },
        {
          "output_type": "execute_result",
          "data": {
            "text/plain": [
              "[0.30235570669174194, 0.9086021780967712]"
            ]
          },
          "metadata": {},
          "execution_count": 42
        }
      ]
    },
    {
      "cell_type": "markdown",
      "source": [],
      "metadata": {
        "id": "ZxapBcEkD8zb"
      }
    },
    {
      "cell_type": "markdown",
      "source": [
        "# **VALIDATING MY MODEL WITH SELF CLICKED PICTURES OF ROCK PAPER & SCISSORS**"
      ],
      "metadata": {
        "id": "xm4b7n34-Tlg"
      }
    },
    {
      "cell_type": "code",
      "source": [
        "from google.colab import files\n",
        "uploaded=files.upload()\n",
        "\n",
        "file=\"\"\n",
        "for fn in uploaded.keys():\n",
        "  file=fn"
      ],
      "metadata": {
        "id": "7c4LcpCYD8fI",
        "colab": {
          "base_uri": "https://localhost:8080/",
          "height": 73
        },
        "outputId": "214aef33-86ae-4c28-8703-b480b8770d41"
      },
      "execution_count": 43,
      "outputs": [
        {
          "output_type": "display_data",
          "data": {
            "text/plain": [
              "<IPython.core.display.HTML object>"
            ],
            "text/html": [
              "\n",
              "     <input type=\"file\" id=\"files-fc6fb6c4-6943-4a90-aeb1-ff844b7498ad\" name=\"files[]\" multiple disabled\n",
              "        style=\"border:none\" />\n",
              "     <output id=\"result-fc6fb6c4-6943-4a90-aeb1-ff844b7498ad\">\n",
              "      Upload widget is only available when the cell has been executed in the\n",
              "      current browser session. Please rerun this cell to enable.\n",
              "      </output>\n",
              "      <script>// Copyright 2017 Google LLC\n",
              "//\n",
              "// Licensed under the Apache License, Version 2.0 (the \"License\");\n",
              "// you may not use this file except in compliance with the License.\n",
              "// You may obtain a copy of the License at\n",
              "//\n",
              "//      http://www.apache.org/licenses/LICENSE-2.0\n",
              "//\n",
              "// Unless required by applicable law or agreed to in writing, software\n",
              "// distributed under the License is distributed on an \"AS IS\" BASIS,\n",
              "// WITHOUT WARRANTIES OR CONDITIONS OF ANY KIND, either express or implied.\n",
              "// See the License for the specific language governing permissions and\n",
              "// limitations under the License.\n",
              "\n",
              "/**\n",
              " * @fileoverview Helpers for google.colab Python module.\n",
              " */\n",
              "(function(scope) {\n",
              "function span(text, styleAttributes = {}) {\n",
              "  const element = document.createElement('span');\n",
              "  element.textContent = text;\n",
              "  for (const key of Object.keys(styleAttributes)) {\n",
              "    element.style[key] = styleAttributes[key];\n",
              "  }\n",
              "  return element;\n",
              "}\n",
              "\n",
              "// Max number of bytes which will be uploaded at a time.\n",
              "const MAX_PAYLOAD_SIZE = 100 * 1024;\n",
              "\n",
              "function _uploadFiles(inputId, outputId) {\n",
              "  const steps = uploadFilesStep(inputId, outputId);\n",
              "  const outputElement = document.getElementById(outputId);\n",
              "  // Cache steps on the outputElement to make it available for the next call\n",
              "  // to uploadFilesContinue from Python.\n",
              "  outputElement.steps = steps;\n",
              "\n",
              "  return _uploadFilesContinue(outputId);\n",
              "}\n",
              "\n",
              "// This is roughly an async generator (not supported in the browser yet),\n",
              "// where there are multiple asynchronous steps and the Python side is going\n",
              "// to poll for completion of each step.\n",
              "// This uses a Promise to block the python side on completion of each step,\n",
              "// then passes the result of the previous step as the input to the next step.\n",
              "function _uploadFilesContinue(outputId) {\n",
              "  const outputElement = document.getElementById(outputId);\n",
              "  const steps = outputElement.steps;\n",
              "\n",
              "  const next = steps.next(outputElement.lastPromiseValue);\n",
              "  return Promise.resolve(next.value.promise).then((value) => {\n",
              "    // Cache the last promise value to make it available to the next\n",
              "    // step of the generator.\n",
              "    outputElement.lastPromiseValue = value;\n",
              "    return next.value.response;\n",
              "  });\n",
              "}\n",
              "\n",
              "/**\n",
              " * Generator function which is called between each async step of the upload\n",
              " * process.\n",
              " * @param {string} inputId Element ID of the input file picker element.\n",
              " * @param {string} outputId Element ID of the output display.\n",
              " * @return {!Iterable<!Object>} Iterable of next steps.\n",
              " */\n",
              "function* uploadFilesStep(inputId, outputId) {\n",
              "  const inputElement = document.getElementById(inputId);\n",
              "  inputElement.disabled = false;\n",
              "\n",
              "  const outputElement = document.getElementById(outputId);\n",
              "  outputElement.innerHTML = '';\n",
              "\n",
              "  const pickedPromise = new Promise((resolve) => {\n",
              "    inputElement.addEventListener('change', (e) => {\n",
              "      resolve(e.target.files);\n",
              "    });\n",
              "  });\n",
              "\n",
              "  const cancel = document.createElement('button');\n",
              "  inputElement.parentElement.appendChild(cancel);\n",
              "  cancel.textContent = 'Cancel upload';\n",
              "  const cancelPromise = new Promise((resolve) => {\n",
              "    cancel.onclick = () => {\n",
              "      resolve(null);\n",
              "    };\n",
              "  });\n",
              "\n",
              "  // Wait for the user to pick the files.\n",
              "  const files = yield {\n",
              "    promise: Promise.race([pickedPromise, cancelPromise]),\n",
              "    response: {\n",
              "      action: 'starting',\n",
              "    }\n",
              "  };\n",
              "\n",
              "  cancel.remove();\n",
              "\n",
              "  // Disable the input element since further picks are not allowed.\n",
              "  inputElement.disabled = true;\n",
              "\n",
              "  if (!files) {\n",
              "    return {\n",
              "      response: {\n",
              "        action: 'complete',\n",
              "      }\n",
              "    };\n",
              "  }\n",
              "\n",
              "  for (const file of files) {\n",
              "    const li = document.createElement('li');\n",
              "    li.append(span(file.name, {fontWeight: 'bold'}));\n",
              "    li.append(span(\n",
              "        `(${file.type || 'n/a'}) - ${file.size} bytes, ` +\n",
              "        `last modified: ${\n",
              "            file.lastModifiedDate ? file.lastModifiedDate.toLocaleDateString() :\n",
              "                                    'n/a'} - `));\n",
              "    const percent = span('0% done');\n",
              "    li.appendChild(percent);\n",
              "\n",
              "    outputElement.appendChild(li);\n",
              "\n",
              "    const fileDataPromise = new Promise((resolve) => {\n",
              "      const reader = new FileReader();\n",
              "      reader.onload = (e) => {\n",
              "        resolve(e.target.result);\n",
              "      };\n",
              "      reader.readAsArrayBuffer(file);\n",
              "    });\n",
              "    // Wait for the data to be ready.\n",
              "    let fileData = yield {\n",
              "      promise: fileDataPromise,\n",
              "      response: {\n",
              "        action: 'continue',\n",
              "      }\n",
              "    };\n",
              "\n",
              "    // Use a chunked sending to avoid message size limits. See b/62115660.\n",
              "    let position = 0;\n",
              "    do {\n",
              "      const length = Math.min(fileData.byteLength - position, MAX_PAYLOAD_SIZE);\n",
              "      const chunk = new Uint8Array(fileData, position, length);\n",
              "      position += length;\n",
              "\n",
              "      const base64 = btoa(String.fromCharCode.apply(null, chunk));\n",
              "      yield {\n",
              "        response: {\n",
              "          action: 'append',\n",
              "          file: file.name,\n",
              "          data: base64,\n",
              "        },\n",
              "      };\n",
              "\n",
              "      let percentDone = fileData.byteLength === 0 ?\n",
              "          100 :\n",
              "          Math.round((position / fileData.byteLength) * 100);\n",
              "      percent.textContent = `${percentDone}% done`;\n",
              "\n",
              "    } while (position < fileData.byteLength);\n",
              "  }\n",
              "\n",
              "  // All done.\n",
              "  yield {\n",
              "    response: {\n",
              "      action: 'complete',\n",
              "    }\n",
              "  };\n",
              "}\n",
              "\n",
              "scope.google = scope.google || {};\n",
              "scope.google.colab = scope.google.colab || {};\n",
              "scope.google.colab._files = {\n",
              "  _uploadFiles,\n",
              "  _uploadFilesContinue,\n",
              "};\n",
              "})(self);\n",
              "</script> "
            ]
          },
          "metadata": {}
        },
        {
          "output_type": "stream",
          "name": "stdout",
          "text": [
            "Saving WhatsApp Image 2022-11-01 at 1.31.53 PM.jpeg to WhatsApp Image 2022-11-01 at 1.31.53 PM.jpeg\n"
          ]
        }
      ]
    },
    {
      "cell_type": "code",
      "source": [
        "img=Image.open(file).convert('RGBA')\n",
        "img=img.resize((64,64))\n",
        "plt.imshow(img)"
      ],
      "metadata": {
        "id": "mWyN1zweDKNf",
        "colab": {
          "base_uri": "https://localhost:8080/",
          "height": 285
        },
        "outputId": "35ff2d61-c903-42a1-b158-83db1f41adb5"
      },
      "execution_count": 44,
      "outputs": [
        {
          "output_type": "execute_result",
          "data": {
            "text/plain": [
              "<matplotlib.image.AxesImage at 0x7f1b502bbbd0>"
            ]
          },
          "metadata": {},
          "execution_count": 44
        },
        {
          "output_type": "display_data",
          "data": {
            "text/plain": [
              "<Figure size 432x288 with 1 Axes>"
            ],
            "image/png": "[encoded data removed]"
          },
          "metadata": {
            "needs_background": "light"
          }
        }
      ]
    },
    {
      "cell_type": "code",
      "source": [
        "img_2d=np.array(img)\n",
        "img_2d=img_2d.reshape(-1,64,64,4)"
      ],
      "metadata": {
        "id": "0TMECTo9_he5"
      },
      "execution_count": 45,
      "outputs": []
    },
    {
      "cell_type": "code",
      "source": [
        "res=model.predict(img_2d)\n",
        "res=np.round_(res)\n",
        "res=res.reshape(3)\n",
        "human=0\n",
        "for i in res :\n",
        "  if i==1:\n",
        "    break\n",
        "  human+=1\n",
        "  \n",
        "if human==0:\n",
        "  print(\"Rock !!!\")\n",
        "elif human==1:\n",
        "  print(\"Paper !!!\")\n",
        "else:\n",
        "  print(\"Scissors !!!\")\n"
      ],
      "metadata": {
        "id": "6YTuFcwY_3zN",
        "colab": {
          "base_uri": "https://localhost:8080/"
        },
        "outputId": "c1c74603-6bc5-458e-beaf-220b1d9e1ad8"
      },
      "execution_count": 46,
      "outputs": [
        {
          "output_type": "stream",
          "name": "stdout",
          "text": [
            "1/1 [==============================] - 0s 171ms/step\n",
            "Paper !!!\n"
          ]
        }
      ]
    },
    {
      "cell_type": "markdown",
      "source": [
        "# **Rock Paper Scissors Game**"
      ],
      "metadata": {
        "id": "k4udHixlTas4"
      }
    },
    {
      "cell_type": "code",
      "source": [
        "import random\n",
        "computer=random.randint(0,2)\n",
        "if(computer==0 and human==1):\n",
        "  print('Rock from computer side !!!')\n",
        "  print('Paper from your side !!!')\n",
        "  print('You Win 🥳🥳🥳')\n",
        "\n",
        "elif(computer==0 and human==2):\n",
        "  print('Rock from computer side !!!')\n",
        "  print('Scissors from your side !!!')\n",
        "  print('Computer Wins 🥲🥲🥲')\n",
        "\n",
        "elif(computer==1 and human==0):\n",
        "  print('Paper from computer side !!!')\n",
        "  print('Rock from your side !!!')\n",
        "  print('Computer Wins 🥲🥲🥲')\n",
        "\n",
        "elif(computer==1 and human==2):\n",
        "  print('Paper from computer side !!!')\n",
        "  print('Scissors from your side !!!')\n",
        "  print('You Win 🥳🥳🥳')\n",
        "\n",
        "elif(computer==2 and human==0):\n",
        "  print('Scissors from computer side !!!')\n",
        "  print('Rock from your side !!!')\n",
        "  print('You Win 🥳🥳🥳')\n",
        "\n",
        "elif(computer==2 and human==1):\n",
        "  print('Scissors from computer side !!!')\n",
        "  print('Paper from your side !!!')\n",
        "  print('Computer Wins 🥲🥲🥲')\n",
        "\n",
        "else:\n",
        "  print('Draw 😶‍🌫️😶‍🌫️😶‍🌫️')\n"
      ],
      "metadata": {
        "id": "dmaF9hUZTYLF",
        "colab": {
          "base_uri": "https://localhost:8080/"
        },
        "outputId": "af5540ab-a7d2-4c0b-8d82-e4e36086ed64"
      },
      "execution_count": 49,
      "outputs": [
        {
          "output_type": "stream",
          "name": "stdout",
          "text": [
            "Scissors from computer side !!!\n",
            "Paper from your side !!!\n",
            "Computer Wins 🥲🥲🥲\n"
          ]
        }
      ]
    }
  ]
}